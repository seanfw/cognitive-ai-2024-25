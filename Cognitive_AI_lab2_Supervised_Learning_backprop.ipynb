{
  "nbformat": 4,
  "nbformat_minor": 0,
  "metadata": {
    "colab": {
      "provenance": []
    },
    "kernelspec": {
      "name": "python3",
      "display_name": "Python 3"
    },
    "language_info": {
      "name": "python"
    }
  },
  "cells": [
    {
      "cell_type": "markdown",
      "source": [
        "# 1. Supervised Learning & Backpropagation\n",
        "\n"
      ],
      "metadata": {
        "id": "zu2TXB6FJ8MG"
      }
    },
    {
      "cell_type": "markdown",
      "metadata": {
        "id": "FxZIqv8G09Il"
      },
      "source": [
        "Objectives of Practical 2:\n",
        "\n",
        "*   To understand the training process, including backpropagation, without relying on machine learning libraries\n",
        "\n",
        "*   Getting introduced to ML libraries"
      ]
    },
    {
      "cell_type": "code",
      "execution_count": null,
      "metadata": {
        "id": "UukdrH7mUELZ"
      },
      "outputs": [],
      "source": [
        "# @title Defining the dataset and the neural network (from tutorial 1)\n",
        "\n",
        "# importing libraries\n",
        "import numpy as np\n",
        "import matplotlib.pyplot as plt\n",
        "\n",
        "#the dataset defined by the logical operator AND\n",
        "dataset_and = [\n",
        "                ([0, 0], 0),\n",
        "                ([0, 1], 0),\n",
        "                ([1, 0], 0),\n",
        "                ([1, 1], 1)\n",
        "                ]\n",
        "\n",
        "#the dataset defined by the logical operator OR\n",
        "dataset_or = [\n",
        "                ([0, 0], 0),\n",
        "                ([0, 1], 1),\n",
        "                ([1, 0], 1),\n",
        "                ([1, 1], 1)\n",
        "                ]\n",
        "\n",
        "#the dataset defined by the logical operator XOR\n",
        "dataset_xor = [\n",
        "                ([0, 0], 0),\n",
        "                ([0, 1], 1),\n",
        "                ([1, 0], 1),\n",
        "                ([1, 1], 0)\n",
        "                ]\n",
        "\n",
        "#the dataset defined by the logical operator XNOR\n",
        "dataset_xnor = [\n",
        "                ([0, 0], 1),\n",
        "                ([0, 1], 0),\n",
        "                ([1, 0], 0),\n",
        "                ([1, 1], 1)\n",
        "                ]\n",
        "\n",
        "# Batch Creation: Using a dataset D and a specified batch_size N, this function\n",
        "# selects N random samples from D. It returns a tuple containing ordered arrays:\n",
        "# (inputs, targets). For each entry, targets[i] matches the target for inputs[i].\n",
        "\n",
        "def generate_batch(dataset, batch_size):\n",
        "    #differentiate inputs (features) from targets and transform each into\n",
        "    #numpy array with each row as an example\n",
        "    inputs = np.vstack([ex[0] for ex in dataset])\n",
        "    targets = np.vstack([ex[1] for ex in dataset])\n",
        "\n",
        "    #randomly choose batch_size many examples; note there will be\n",
        "    #duplicate entries when batch_size > len(dataset)\n",
        "    rand_inds = np.random.randint(0, len(dataset), batch_size)\n",
        "    inputs_batch = inputs[rand_inds]\n",
        "    targets_batch = targets[rand_inds]\n",
        "\n",
        "    return inputs_batch, targets_batch\n",
        "\n",
        "#code for *nn_one_layer* which initiliases the model and also defines the forward\n",
        "#computation.\n",
        "\n",
        "def sigmoid(a):\n",
        "    sigma = 1/(1 + np.exp(-a))\n",
        "    return sigma\n",
        "\n",
        "\n",
        "class nn_one_layer():\n",
        "    def __init__(self, input_size, hidden_size, output_size):\n",
        "        #define the input/output weights Wax, Wya\n",
        "        self.Wax = 0.1 * np.random.randn(input_size, hidden_size)\n",
        "        self.Wya = 0.1 * np.random.randn(hidden_size, output_size)\n",
        "\n",
        "        self.f = sigmoid\n",
        "\n",
        "    def forward(self, x):\n",
        "        z = np.matmul(x, self.Wax)\n",
        "        a = self.f(z)\n",
        "        yhat = np.matmul(a, self.Wya)\n",
        "        return yhat, a, z"
      ]
    },
    {
      "cell_type": "markdown",
      "source": [
        "## 1.2 The Loss Function\n"
      ],
      "metadata": {
        "id": "kOrYV8u81QDg"
      }
    },
    {
      "cell_type": "markdown",
      "source": [
        "The loss function at its most basic tells you the discrepancy between the predicted values and the actual ground truth values for a particular training example. The goal is to minimise the loss.\n",
        "\n",
        "Here we will use the **Squared Error** loss\n",
        "\n",
        "$$J_k = (\\hat{y_k} - t_k)^2$$\n",
        "\n",
        "where $t_k$ is the target value, $\\hat{y_k}$ is the output prediction for the $k^{\\mathrm{th}}$ sample input.\n",
        "\n",
        "In the code below, we will drop the $k$ subscripts, for conciseness.\n"
      ],
      "metadata": {
        "id": "T-gvvwoY3FNA"
      }
    },
    {
      "cell_type": "code",
      "source": [
        "def loss_mse(predictions, targets):\n",
        "    # calculate number of training examples\n",
        "\n",
        "    loss_J = 'TODO'\n",
        "    return loss_J"
      ],
      "metadata": {
        "id": "MBTPtbaS3GCB"
      },
      "execution_count": null,
      "outputs": []
    },
    {
      "cell_type": "markdown",
      "source": [
        "**Derivative of the Loss Function:**\n",
        "The derivative of the loss function with respect to predictions indicates the direction and magnitude of changes needed to reduce the loss."
      ],
      "metadata": {
        "id": "P5UreNku3dus"
      }
    },
    {
      "cell_type": "code",
      "source": [
        "def loss_deriv(predictions, targets):\n",
        "    dJ_dyhat = 'TODO'\n",
        "    return dJ_dyhat"
      ],
      "metadata": {
        "id": "CdPTPWs43hqF"
      },
      "execution_count": null,
      "outputs": []
    },
    {
      "cell_type": "markdown",
      "source": [
        "## 1.3. Activation Functions and Their Derivatives\n",
        "\n",
        "We have already come across the sigmoid activation function\n",
        "\n",
        "$\\sigma(z) =\\frac{1}{1+e^{-z}}$\n",
        "\n",
        "in tutorial 1.\n",
        "\n",
        "The derivative of the activation function is used during backpropagation to adjust the weights in the direction that reduces the loss.\n",
        "\n",
        "If you want a nice calculus exercise, calculate the derivitave of the sigmoid.\n",
        "\n",
        "If you don't want a nice calculus exercise, the answer is:\n",
        "\n",
        "$\\frac{d\\sigma(z)}{dz} =\\sigma(z)(1-\\sigma(z))$\n",
        "\n",
        "Implement this now in code.\n",
        "\n",
        "\n"
      ],
      "metadata": {
        "id": "sovaLT547W6J"
      }
    },
    {
      "cell_type": "code",
      "source": [
        "#derivative of the sigmoid function\n",
        "def sigmoid_prime(z):\n",
        "    dsigmoid_dz = 'TODO'\n",
        "    return dsigmoid_dz"
      ],
      "metadata": {
        "id": "Zd4hVlGL7nxZ"
      },
      "execution_count": null,
      "outputs": []
    },
    {
      "cell_type": "markdown",
      "source": [
        "## 1.4. Backpropagation\n",
        "\n",
        "\n",
        "**Step-by-step Process:**\n",
        "\n",
        "1. Forward Pass: Before we can start backpropagation, we n\n",
        "eed to do a forward pass through the network to get the predictions. This also allows us to compute the initial loss.\n",
        "\n",
        "A reminder of the equations for the forward pass. Note that (in contrast to the lecture slides), the final layer activity does not pass through a nonlinearity at the output stage. This simplifies the gradient calculation a little.\n",
        "\n",
        "\\begin{align}\n",
        "\\mathbf{Z} &= \\mathbf{X}W_{a←x} \\\\\n",
        "\\mathbf{A} &= f(\\mathbf{Z}) \\\\\n",
        "\\hat{y} &= \\mathbf{A}W_{y←a}\n",
        "\\end{align}\n",
        "\n",
        "\n",
        "\n",
        "2. Compute the Gradient at the Output.\n",
        "\n",
        "3. Move Backwards Through the Network: Starting from the output layer and moving towards the input layer, we compute the gradient of the loss concerning each weight. This is done by multiplying the gradient we have by the local gradient of the current layer. This step is iteratively repeated for each layer in the network.\n",
        "\n",
        "\n",
        "\\begin{align}\n",
        "\\frac{\\delta\\mathbf{J}}{\\delta W_{y←a}} &= \\frac{\\delta \\hat{y}}{\\delta W_{y←a}} \\frac{\\delta\\mathbf{J}}{\\delta \\hat{y}} = \\mathbf{A}^T \\frac{\\delta\\mathbf{J}}{\\delta \\hat{y}} \\\\\n",
        "\\frac{\\delta\\mathbf{J}}{\\delta A} &= \\frac{\\delta \\hat{y}}{\\delta A} \\frac{\\delta\\mathbf{J}}{\\delta \\hat{y}} =  \\frac{\\delta\\mathbf{J}}{\\delta \\hat{y}} W_{y←a}^T \\\\\n",
        "\\frac{\\delta\\mathbf{J}}{\\delta Z} &= \\sigma'(\\mathbf{Z})\\odot \\frac{\\delta\\mathbf{J}}{\\delta A} \\\\\n",
        "\\frac{\\delta\\mathbf{J}}{\\delta W_{a←x}} &= \\mathbf{X}^T \\frac{\\delta\\mathbf{J}}{\\delta Z} \\\\\n",
        "\\end{align}\n",
        "\n",
        "Here, $\\odot$ denotes element-wise multiplication.\n",
        "\n",
        "Now compute the derivative of the loss with respect to network weights $W_{y←a}$ and $W_{y←a}$"
      ],
      "metadata": {
        "id": "EPF7b0up7scu"
      }
    },
    {
      "cell_type": "code",
      "source": [
        "#compute the derivative of the loss wrt network weights Wax and Wya\n",
        "#dL_dPred is (precomputed) derivative of loss wrt network prediction\n",
        "#X is (batch) input to network, A is (batch) activity at hidden layer\n",
        "def backprop(Wax, Wya, dJ_dyhat, X, A, Z):\n",
        "\n",
        "\n",
        "    dJ_dWya = 'TODO'\n",
        "\n",
        "    dJ_dA = 'TODO'\n",
        "\n",
        "    dJ_dZ = 'TODO'\n",
        "\n",
        "    dJ_dWax = 'TODO'\n",
        "\n",
        "\n",
        "    return dJ_dWax, dJ_dWya"
      ],
      "metadata": {
        "id": "bQ5eHhlk8HI-"
      },
      "execution_count": null,
      "outputs": []
    },
    {
      "cell_type": "markdown",
      "source": [
        "4. Weight Update: Once we have the gradients, we can adjust each weight in the network. Typically, we subtract a fraction of the gradient from the weight. This fraction is determined by the learning rate, a hyperparameter that controls the size of the weight updates."
      ],
      "metadata": {
        "id": "HFz5ynVt-hwy"
      }
    },
    {
      "cell_type": "markdown",
      "source": [
        "## 1.5. Training the Neural Network\n",
        "\n",
        "The train_one_batch function contains the entire training loop:\n",
        "\n",
        "1. Batch Retrieval.\n",
        "\n",
        "2. Prediction Generation.\n",
        "\n",
        "3. Loss Evaluation.\n",
        "\n",
        "4. Backpropagation & Weight Update.\n"
      ],
      "metadata": {
        "id": "ttB_Rri58OHR"
      }
    },
    {
      "cell_type": "code",
      "source": [
        "#train the provided network with one batch according to the dataset\n",
        "#return the loss for the batch\n",
        "\n",
        "def train_one_batch(nn, dataset, batch_size, lr):\n",
        "    #Generate the batches\n",
        "    inputs, targets = 'TODO'\n",
        "    #forward pass of the network. Below we will create an instance \"nn\" of our nn_one_layer class, which you can call here\n",
        "    preds, A, Z = 'TODO'\n",
        "    #calculating the loss\n",
        "    loss = 'TODO'\n",
        "    dJ_dyhat = 'TODO'\n",
        "    #backpropagation step where the chain rule of calculus is applied to\n",
        "    #compute how much each weight contributed to the error.\n",
        "    dJ_dWax, dJ_dWya = 'TODO'\n",
        "    nn.Wax -= lr * dJ_dWax\n",
        "    nn.Wya -= lr * dJ_dWya\n",
        "    return loss\n"
      ],
      "metadata": {
        "id": "56F9ZECh8bLd"
      },
      "execution_count": null,
      "outputs": []
    },
    {
      "cell_type": "markdown",
      "source": [
        "## 1.6. Evaluating the Model\n",
        "\n",
        "Test the model on data that it has not seen during training. To do this, create a function to pass new data through a forward pass of the (now trained) model, and calculate the loss.\n"
      ],
      "metadata": {
        "id": "uluee-m-8g2J"
      }
    },
    {
      "cell_type": "code",
      "source": [
        "def test(nn, dataset):\n",
        "    inputs, targets = generate_batch(dataset, batch_size=200)\n",
        "    preds, A, Z = 'TODO'\n",
        "    loss = 'TODO'\n",
        "    return loss"
      ],
      "metadata": {
        "id": "o0cJwDzf81eC"
      },
      "execution_count": null,
      "outputs": []
    },
    {
      "cell_type": "markdown",
      "source": [
        "##1.7. Bringing it all together\n",
        "\n",
        "With all the methods in place, let's train our neural network on the XOR dataset\n",
        "\n",
        "To kick things off, we'll train the network using 5,000 batches, each containing 5 data points. Throughout this process, we'll monitor and document the loss for every batch, allowing us to observe the network's 'learning curve'."
      ],
      "metadata": {
        "id": "uB4clnOBupS9"
      }
    },
    {
      "cell_type": "code",
      "source": [
        "inputs_xor, targets_xor = generate_batch(dataset_xor, batch_size=100)\n",
        "\n",
        "chosen_dataset = dataset_xor\n",
        "\n",
        "batch_size = 5 #number of examples per batch\n",
        "nbatches = 5000 #number of batches used for training\n",
        "lr = 0.1 #learning rate\n",
        "\n",
        "input_size = 2\n",
        "hidden_size = 5\n",
        "output_size = 1\n",
        "\n",
        "nn = nn_one_layer(input_size, hidden_size, output_size) #initialise model\n",
        "preds_xor, _, _ = nn.forward(inputs_xor) #prediction made by model on batch xor input\n",
        "\n",
        "losses = [] #training losses to record\n",
        "for i in range(nbatches):\n",
        "    loss = 'TODO'\n",
        "    losses.append(loss)"
      ],
      "metadata": {
        "id": "8mbPHNzMwXOf"
      },
      "execution_count": null,
      "outputs": []
    },
    {
      "cell_type": "markdown",
      "source": [
        "Let's visualise how the network learns the task."
      ],
      "metadata": {
        "id": "UVLfL6Q2wi4Q"
      }
    },
    {
      "cell_type": "code",
      "source": [
        "#plotting the learning curve\n",
        "plt.plot(np.arange(1, nbatches+1), losses)\n",
        "plt.xlabel(\"# batches\")\n",
        "plt.ylabel(\"training MSE\")"
      ],
      "metadata": {
        "id": "BD2veCIrwoz7",
        "colab": {
          "base_uri": "https://localhost:8080/",
          "height": 466
        },
        "outputId": "dca9ddbb-e4c6-4102-9ae7-42c626e7d916"
      },
      "execution_count": null,
      "outputs": [
        {
          "output_type": "execute_result",
          "data": {
            "text/plain": [
              "Text(0, 0.5, 'training MSE')"
            ]
          },
          "metadata": {},
          "execution_count": 63
        },
        {
          "output_type": "display_data",
          "data": {
            "text/plain": [
              "<Figure size 640x480 with 1 Axes>"
            ],
            "image/png": "[encoded data removed]"
          },
          "metadata": {}
        }
      ]
    },
    {
      "cell_type": "markdown",
      "source": [
        "\n",
        "##1.8 Optional Exercise\n",
        "\n",
        "Revisit the prior section, but this time train the network using the AND, OR, and XNOR datasets. Does the network exhibit a preference in learning one dataset over the others?"
      ],
      "metadata": {
        "id": "KIjVckzdXr8D"
      }
    },
    {
      "cell_type": "markdown",
      "source": [
        "*Type your answers here*"
      ],
      "metadata": {
        "id": "k4jUp7GgESSZ"
      }
    },
    {
      "cell_type": "markdown",
      "source": [
        "#2 . Getting introduced to machine learning libraries\n",
        "\n",
        "**Benefits of Machine Learning Libraries:**\n",
        "\n",
        "Libraries like PyTorch handle many complexities behind the scenes, such as backpropagation, allowing for more concise and efficient code.\n",
        "\n",
        "**Revisiting Previous Concepts with PyTorch:**\n",
        "\n",
        "Let us implement the same neural network, loss function, and training loop using PyTorch. Notice the reduced code complexity and built-in functionalities."
      ],
      "metadata": {
        "id": "vVszzna89IL2"
      }
    },
    {
      "cell_type": "code",
      "source": [
        "import torch\n",
        "import torch.nn as nn\n",
        "import torch.optim as optim\n",
        "import numpy as np\n",
        "import matplotlib.pyplot as plt\n",
        "\n",
        "# Define the dataset\n",
        "data = torch.tensor([[0, 0], [0, 1], [1, 0], [1, 1]], dtype=torch.float32)\n",
        "labels = torch.tensor([[0], [0], [0], [1]], dtype=torch.float32)\n",
        "\n",
        "dataset_and = list(zip(data, labels))\n",
        "\n",
        "\n",
        "# Generate batch\n",
        "def generate_batch(dataset, batch_size):\n",
        "    inputs = torch.stack([ex[0] for ex in dataset])\n",
        "    targets = torch.stack([ex[1] for ex in dataset])\n",
        "    rand_inds = torch.randint(0, len(dataset), (batch_size,))\n",
        "    inputs_batch = inputs[rand_inds]\n",
        "    targets_batch = targets[rand_inds]\n",
        "    return inputs_batch, targets_batch\n",
        "\n",
        "# Define the neural network\n",
        "class NN_OneLayer(nn.Module):\n",
        "    def __init__(self, input_size, hidden_size, output_size):\n",
        "        super(NN_OneLayer, self).__init__()\n",
        "        self.fc1 = nn.Linear(input_size, hidden_size)\n",
        "        self.fc2 = 'TODO'\n",
        "        self.sigmoid = nn.Sigmoid()\n",
        "\n",
        "    def forward(self, x):\n",
        "        z = 'TODO'\n",
        "        a = 'TODO'\n",
        "        yhat = 'TODO'\n",
        "        return yhat, a, z\n",
        "\n",
        "# Training parameters\n",
        "chosen_dataset = dataset_and\n",
        "batch_size = 5\n",
        "nbatches = 5000\n",
        "lr = 0.1\n",
        "input_size = 2\n",
        "hidden_size = 5\n",
        "output_size = 1\n",
        "\n",
        "# Initialise model and optimiser\n",
        "model = NN_OneLayer(input_size, hidden_size, output_size)\n",
        "criterion = nn.MSELoss()\n",
        "optimiser = optim.SGD(model.parameters(), lr=lr)\n",
        "\n",
        "# Training loop\n",
        "losses = []\n",
        "for i in range(nbatches):\n",
        "    inputs, targets = generate_batch(chosen_dataset, batch_size)\n",
        "    optimiser.zero_grad()\n",
        "    outputs, _, _ = model(inputs)\n",
        "    loss = criterion(outputs, targets)\n",
        "    loss.backward()\n",
        "    optimiser.step()\n",
        "    losses.append(loss.item())\n",
        "\n",
        "# Plotting the loss\n",
        "plt.plot(losses)\n",
        "plt.xlabel('Batch')\n",
        "plt.ylabel('Loss')\n",
        "plt.title('Training Loss over Time')\n",
        "plt.show()\n"
      ],
      "metadata": {
        "id": "jExMiu-7jXBb",
        "colab": {
          "base_uri": "https://localhost:8080/",
          "height": 472
        },
        "outputId": "f0058b20-5920-4230-8f30-1891fc3bc7a3"
      },
      "execution_count": null,
      "outputs": [
        {
          "output_type": "display_data",
          "data": {
            "text/plain": [
              "<Figure size 640x480 with 1 Axes>"
            ],
            "image/png": "[encoded data removed]"
          },
          "metadata": {}
        }
      ]
    }
  ]
}